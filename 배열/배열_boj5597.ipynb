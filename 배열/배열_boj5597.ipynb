{
  "nbformat": 4,
  "nbformat_minor": 0,
  "metadata": {
    "colab": {
      "provenance": [],
      "authorship_tag": "ABX9TyO60IYPqbEyS8g6ndO4N+sV",
      "include_colab_link": true
    },
    "kernelspec": {
      "name": "python3",
      "display_name": "Python 3"
    },
    "language_info": {
      "name": "python"
    }
  },
  "cells": [
    {
      "cell_type": "markdown",
      "metadata": {
        "id": "view-in-github",
        "colab_type": "text"
      },
      "source": [
        "<a href=\"https://colab.research.google.com/github/hanseunggyu/python/blob/main/%EB%B0%B0%EC%97%B4_boj5597.ipynb\" target=\"_parent\"><img src=\"https://colab.research.google.com/assets/colab-badge.svg\" alt=\"Open In Colab\"/></a>"
      ]
    },
    {
      "cell_type": "code",
      "source": [
        "check = [0] * 31\n",
        "\n",
        "for i in range(28):\n",
        "  n = int(input())\n",
        "  check[n] = 1\n",
        "\n",
        "answer = []\n",
        "for i in range(1, 31):\n",
        "  if check[i] == 0:\n",
        "    answer.append(i)\n",
        "\n",
        "print(answer[0])\n",
        "print(answer[1])"
      ],
      "metadata": {
        "colab": {
          "base_uri": "https://localhost:8080/"
        },
        "id": "b3Bi4CEJbX69",
        "outputId": "94df91e5-c97b-469c-9145-ac32c7c395cf"
      },
      "execution_count": 3,
      "outputs": [
        {
          "output_type": "stream",
          "name": "stdout",
          "text": [
            "3\n",
            "1\n",
            "4\n",
            "5\n",
            "7\n",
            "9\n",
            "6\n",
            "10\n",
            "11\n",
            "12\n",
            "13\n",
            "14\n",
            "15\n",
            "16\n",
            "17\n",
            "18\n",
            "19\n",
            "20\n",
            "21\n",
            "22\n",
            "23\n",
            "24\n",
            "25\n",
            "26\n",
            "27\n",
            "28\n",
            "29\n",
            "30\n",
            "2\n",
            "8\n"
          ]
        }
      ]
    }
  ]
}
